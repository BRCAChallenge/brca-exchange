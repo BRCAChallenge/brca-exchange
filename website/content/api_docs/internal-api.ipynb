{
 "cells": [
  {
   "cell_type": "markdown",
   "metadata": {},
   "source": [
    "# Preface: The BRCA Exchange Internal API\n",
    "BRCA Exchange uses an internal API to facilitate communication between the front-end and the backend. This notebook is intended to guide developers through the internal API and describe what features are available.\n",
    "\n",
    "Full API documentation can be found here: [API Overview](https://github.com/BRCAChallenge/brca-exchange/blob/master/website/content/api_docs/api_overview.md)."
   ]
  },
  {
   "cell_type": "code",
   "execution_count": 1,
   "metadata": {},
   "outputs": [],
   "source": [
    "# imports some objects we'll be using throughout this notebook\n",
    "from pprint import pprint  # for pretty-printing results\n",
    "import requests as rq  # for issuing HTTP(S) queries"
   ]
  },
  {
   "cell_type": "markdown",
   "metadata": {
    "toc-hr-collapsed": false
   },
   "source": [
    "# Searching for Variants"
   ]
  },
  {
   "cell_type": "markdown",
   "metadata": {
    "toc-hr-collapsed": false
   },
   "source": [
    "## Getting All Variants\n",
    "As a starting exercise, let's get a list of all variants from the backend. The list is paged to prevent overwhelming the client with the 26,000+ variants available on the site."
   ]
  },
  {
   "cell_type": "code",
   "execution_count": 107,
   "metadata": {},
   "outputs": [],
   "source": [
    "# in these examples, the query is split up into separate lines here to improve readability\n",
    "query = \"\"\"\n",
    "https://brcaexchange.org/backend/data/\n",
    "?format=json\n",
    "&order_by=Gene_Symbol\n",
    "&direction=ascending\n",
    "&page_size=20\n",
    "&page_num=0\n",
    "&search_term=\n",
    "&include=Variant_in_ENIGMA\n",
    "&include=Variant_in_ClinVar\n",
    "&include=Variant_in_1000_Genomes\n",
    "&include=Variant_in_ExAC&include=Variant_in_LOVD\n",
    "&include=Variant_in_BIC&include=Variant_in_ESP\n",
    "&include=Variant_in_exLOVD&include=Variant_in_ENIGMA_BRCA12_Functional_Assays\n",
    "&include=Variant_in_GnomAD\n",
    "\"\"\"\n",
    "\n",
    "# the lines in the query are joined before we issue it\n",
    "first20 = rq.get(query.replace('\\n', '')).json()"
   ]
  },
  {
   "cell_type": "markdown",
   "metadata": {},
   "source": [
    "**first20** now contains a dictionary with the following keys:\n",
    "- **count**: an integer indicating the total number of variants in the database\n",
    "- **deletedCount**: an integer indicating the number of variants that have been removed from the database\n",
    "- **synonyms**: an integer, 0 for this example since we didn't search for anything specific. (this will be explained later)\n",
    "- **data**: a list of the actual variants returned; the length of this list will always be <= page_size\n",
    "\n",
    "Each variant in data holds a wealth of information. It's beyond the scope of this document to describe the full contents of the variant object, but for now we'll consider the field Genomic_Coordinate_hg38 to be a good description of the variant. Specifically it's the genomic HGVS notation for that variant, but with the chromosone identifier instead of an accession. For example, `chr17:g.43111549:T>C` indicates a variant on chromosome 17 starting at genomic position 43111549. The `T>C` part indicates that it's a single-nucleotide substitution in which a `T`, Thymine, has been substituted (`>`) for a `C`, Cytosine. Consult the following site for a thorough explanation of HGVS notation: https://varnomen.hgvs.org/.\n",
    "\n",
    "Let's take a look at that field for the variants we've retrieved."
   ]
  },
  {
   "cell_type": "code",
   "execution_count": 89,
   "metadata": {},
   "outputs": [
    {
     "name": "stdout",
     "output_type": "stream",
     "text": [
      "Genomic coordinates of variants in page:\n",
      "['chr17:g.43065086:C>T',\n",
      " 'chr17:g.43122547:T>A',\n",
      " 'chr17:g.43098204:AT>A',\n",
      " 'chr17:g.43051983:C>G',\n",
      " 'chr17:g.43094573:T>G',\n",
      " 'chr17:g.43080681:C>T',\n",
      " 'chr17:g.43111828:A>C',\n",
      " 'chr17:g.43044897:G>A',\n",
      " 'chr17:g.43082145:T>C',\n",
      " 'chr17:g.43112322:G>A',\n",
      " 'chr17:g.43099786:T>C',\n",
      " 'chr17:g.43099859:G>C',\n",
      " 'chr17:g.43090063:AG>A',\n",
      " 'chr17:g.43078027:G>A',\n",
      " 'chr17:g.43108968:G>C',\n",
      " 'chr17:g.43082506:C>G',\n",
      " 'chr17:g.43102706:G>A',\n",
      " 'chr17:g.43086602:C>T',\n",
      " 'chr17:g.43071077:T>C',\n",
      " 'chr17:g.43079318:G>A']\n"
     ]
    }
   ],
   "source": [
    "# let's see which variants they are\n",
    "print(\"Genomic coordinates of variants in page:\")\n",
    "pprint([x['Genomic_Coordinate_hg38'] for x in first20['data']])"
   ]
  },
  {
   "cell_type": "markdown",
   "metadata": {},
   "source": [
    "Let's also take a look at the non-empty fields in the first variant in the results. Note that empty fields may either be `None` (`null` in Javascript), the string '-', the string 'None', or simply an empty string, ''."
   ]
  },
  {
   "cell_type": "code",
   "execution_count": 90,
   "metadata": {
    "collapsed": true,
    "jupyter": {
     "outputs_hidden": true
    }
   },
   "outputs": [
    {
     "name": "stdout",
     "output_type": "stream",
     "text": [
      "[('ClinVarAccession_ENIGMA', 'SCV000244620.1'),\n",
      " ('Variant_in_LOVD', True),\n",
      " ('DBID_LOVD', 'BRCA1_003341'),\n",
      " ('Chr', '17'),\n",
      " ('Submitter_ClinVar',\n",
      "  'Evidence-based_Network_for_the_Interpretation_of_Germline_Mutant_Alleles_(ENIGMA)'),\n",
      " ('Submitters_LOVD', 'ENIGMA consortium (Brisbane,AU)'),\n",
      " ('Pathogenicity_expert', 'Benign / Little Clinical Significance'),\n",
      " ('Method_ClinVar', 'curation'),\n",
      " ('BIC_Nomenclature', 'IVS 17-1135G>A'),\n",
      " ('Change_Type_id', 6),\n",
      " ('Collection_method_ENIGMA', 'Curation'),\n",
      " ('Source_URL', 'http://www.ncbi.nlm.nih.gov/clinvar/?term=SCV000244620'),\n",
      " ('HGVS_cDNA_LOVD', 'NM_007294.3:c.5075-1135G>A'),\n",
      " ('EAS_Allele_frequency_1000_Genomes', '0.0536'),\n",
      " ('Reference_Sequence', 'NM_007294.3'),\n",
      " ('Individuals_LOVD', '1'),\n",
      " ('Variant_in_ExAC', False),\n",
      " ('Allele_Origin_ClinVar', 'germline'),\n",
      " ('Variant_in_1000_Genomes', True),\n",
      " ('Edited_date_LOVD', '2017-08-18 17:32:14'),\n",
      " ('AFR_Allele_frequency_1000_Genomes', '0.0015'),\n",
      " ('EUR_Allele_frequency_1000_Genomes', '0.0'),\n",
      " ('Source', 'ENIGMA,ClinVar,LOVD,1000_Genomes'),\n",
      " ('Condition_ID_value_ENIGMA',\n",
      "  'BREAST-OVARIAN CANCER, FAMILIAL, SUSCEPTIBILITY TO, 1; BROVCA1 (604370)'),\n",
      " ('Protein_Change', '?'),\n",
      " ('BX_ID_LOVD', '13133'),\n",
      " ('Gene_Symbol', 'BRCA1'),\n",
      " ('Comment_on_clinical_significance_ENIGMA',\n",
      "  'Class 1 not pathogenic based on frequency >1% in an outbred sampleset. '\n",
      "  'Frequency 0.04371 (Asian), derived from 1000 genomes (2012-04-30).'),\n",
      " ('Assertion_method_ENIGMA', 'ENIGMA BRCA1/2 Classification Criteria (2015)'),\n",
      " ('Variant_in_ENIGMA_BRCA12_Functional_Assays', False),\n",
      " ('Hg38_End', 43065086),\n",
      " ('HGVS_cDNA', 'NM_007294.3:c.5075-1135G>A'),\n",
      " ('SAS_Allele_frequency_1000_Genomes', '0.0'),\n",
      " ('Hg36_End', 38470629),\n",
      " ('RNA_LOVD', 'r.(?)'),\n",
      " ('BX_ID_ClinVar', '29429'),\n",
      " ('Hg37_End', 41217103),\n",
      " ('Created_date_LOVD', '2015-12-01 12:00:00'),\n",
      " ('Allele_origin_ENIGMA', 'Germline'),\n",
      " ('Date_last_evaluated_ENIGMA', '2015-01-12'),\n",
      " ('Date_Last_Updated_ClinVar', '2019-03-31'),\n",
      " ('Data_Release_id', 30),\n",
      " ('SCV_ClinVar', 'SCV000244620'),\n",
      " ('Allele_frequency_1000_Genomes', '0.0123802'),\n",
      " ('AMR_Allele_frequency_1000_Genomes', '0.0086'),\n",
      " ('Variant_in_ESP', False),\n",
      " ('Variant_in_BIC', False),\n",
      " ('Condition_category_ENIGMA', 'Disease'),\n",
      " ('Synonyms',\n",
      "  'IVS_17-1135G>A,NC_000017.10.g.41217103C>T,LRG_292.g.152898G>A,NM_007294.3.c.5075-1135G>A,NG_005905.2.g.152898G>A,IVS '\n",
      "  '17-1135G>A,NC_000017.11.g.43065086C>T,LRG_292t1.c.5075-1135G>A,NM_007294.2:c.5075-1135G>A,NM_007300.3:c.5138-1135G>A,NM_007299.3:c.1763-1135G>A,NM_007298.3:c.1763-1135G>A,NM_007297.3:c.4934-1135G>A,U14680.1:c.5187-1135G>A'),\n",
      " ('Variant_in_ENIGMA', True),\n",
      " ('Pathogenicity_all', 'Benign(ENIGMA); Benign (ClinVar)'),\n",
      " ('BX_ID_1000_Genomes', '2832'),\n",
      " ('Genomic_Coordinate_hg36', 'chr17:g.38470629:C>T'),\n",
      " ('Genetic_origin_LOVD', 'SUMMARY record'),\n",
      " ('Allele_Frequency', '0.0123802 (1000 Genomes)'),\n",
      " ('BX_ID_ENIGMA', '2195'),\n",
      " ('Assertion_method_citation_ENIGMA',\n",
      "  'https://submit.ncbi.nlm.nih.gov/ft/byid/hxnfuuxx/enigma_rules_2015-03-26.pdf'),\n",
      " ('Condition_ID_type_ENIGMA', 'OMIM'),\n",
      " ('Variant_in_ClinVar', True),\n",
      " ('Genomic_Coordinate_hg37', 'chr17:g.41217103:C>T'),\n",
      " ('Clinical_significance_ENIGMA', 'Benign'),\n",
      " ('Variant_in_GnomAD', False),\n",
      " ('Variant_in_exLOVD', False),\n",
      " ('Clinical_Significance_ClinVar', 'Benign'),\n",
      " ('Ref', 'C'),\n",
      " ('id', 219697),\n",
      " ('Variant_effect_LOVD', '-/-'),\n",
      " ('Hg37_Start', 41217103),\n",
      " ('Hg36_Start', 38470629),\n",
      " ('Genomic_Coordinate_hg38', 'chr17:g.43065086:C>T'),\n",
      " ('Alt', 'T'),\n",
      " ('Hg38_Start', 43065086),\n",
      " ('Pos', '43065086')]\n"
     ]
    }
   ],
   "source": [
    "variant = first20['data'][0]\n",
    "pprint([(k, variant[k]) for k in variant if variant[k] not in (None, '-', 'None', '')])"
   ]
  },
  {
   "cell_type": "markdown",
   "metadata": {},
   "source": [
    "## Navigating the Results\n",
    "As mentioned, the API will only return a single page of results at a time. The number of results per page is specified in the parameter `page_size`. `page_num` indicates the page you're currently viewing, with page 0 being the first one in the result set. To retrieve the next page, you must increment the argument `page_num` while keeping the rest of the parameters the same. Here's the next page of variants, for example."
   ]
  },
  {
   "cell_type": "code",
   "execution_count": 91,
   "metadata": {},
   "outputs": [
    {
     "name": "stdout",
     "output_type": "stream",
     "text": [
      "Variants in page: 20\n",
      "Genomic coordinates of variants in page 1:\n",
      "['chr17:g.43098204:AT>A',\n",
      " 'chr17:g.43044897:G>A',\n",
      " 'chr17:g.43078027:G>A',\n",
      " 'chr17:g.43080681:C>T',\n",
      " 'chr17:g.43099409:TAC>T',\n",
      " 'chr17:g.43122547:T>A',\n",
      " 'chr17:g.43108968:G>C',\n",
      " 'chr17:g.43094113:T>C',\n",
      " 'chr17:g.43101650:G>C',\n",
      " 'chr17:g.43050608:CA>C',\n",
      " 'chr17:g.43082506:C>G',\n",
      " 'chr17:g.43111828:A>C',\n",
      " 'chr17:g.43071077:T>C',\n",
      " 'chr17:g.43086602:C>T',\n",
      " 'chr17:g.43082145:T>C',\n",
      " 'chr17:g.43112322:G>A',\n",
      " 'chr17:g.43099859:G>C',\n",
      " 'chr17:g.43099786:T>C',\n",
      " 'chr17:g.43051983:C>G',\n",
      " 'chr17:g.43064696:T>A']\n"
     ]
    }
   ],
   "source": [
    "page_num = 1\n",
    "next20 = rq.get(\"\".join((\"\"\"\n",
    "https://brcaexchange.org/backend/data/\n",
    "?format=json\n",
    "&order_by=Gene_Symbol\n",
    "&direction=ascending\n",
    "&page_size=20\n",
    "&page_num=%(page_num)d\n",
    "&search_term=\n",
    "&include=Variant_in_ENIGMA\n",
    "&include=Variant_in_ClinVar\n",
    "&include=Variant_in_1000_Genomes\n",
    "&include=Variant_in_ExAC&include=Variant_in_LOVD\n",
    "&include=Variant_in_BIC&include=Variant_in_ESP\n",
    "&include=Variant_in_exLOVD&include=Variant_in_ENIGMA_BRCA12_Functional_Assays\n",
    "&include=Variant_in_GnomAD\n",
    "\"\"\" % {'page_num': page_num}).split('\\n'))).json()\n",
    "\n",
    "# as before, next20 contains 20 elements, but they're not the same elements\n",
    "print(\"Variants in page: %d\" % len(next20['data']))\n",
    "\n",
    "# again, let's see which variants are on this page\n",
    "print(\"Genomic coordinates of variants in page %d:\" % page_num)\n",
    "pprint([x['Genomic_Coordinate_hg38'] for x in next20['data']])"
   ]
  },
  {
   "cell_type": "markdown",
   "metadata": {},
   "source": [
    "## Filtering the Variants\n",
    "Extending the example from before, let's supply some criteria to narrow down the list. Criteria are specified by adding `filter=<type>` and then `filterValue=<value>` later in the parameter list. The following filter types are available:\n",
    "\n",
    "- `Pathogenicity_expert`: pathogenicity of the variant as determined by ENIGMA; values are one of the following:\n",
    "  - Pathogenic,\n",
    "  - Likely Pathogenic,\n",
    "  - Benign / Little Clinical Significance, \n",
    "  - Likely Benign,\n",
    "  - Not Yet Reviewed\n",
    "- `Gene_Symbol`: the HUGO symbol for the gene in which the variant occurs; may be one:\n",
    "  - BRCA1\n",
    "  - BRCA2\n",
    "\n",
    "Omitting a filter removes the restriction, e.g. leaving out Gene_Symbol would return results for both genes. Each filter type can be specified only once, and filter types are ANDed together, i.e. variant must match all filters to be returned. If you want to specify multiple criteria, you must ensure that the `filter` parameters' order matches the `filterValues`. For instance, if both types are specified and `filter=Gene_Symbol` is first in the parameter list, then `filterValue=BRCA1` must occur before `filterValue=Likely Benign`.\n",
    "\n",
    "Let's try querying for pathogenic BRCA2 variants."
   ]
  },
  {
   "cell_type": "code",
   "execution_count": 92,
   "metadata": {},
   "outputs": [
    {
     "name": "stdout",
     "output_type": "stream",
     "text": [
      "Number of pathogenic BRCA2 variants: 2637\n"
     ]
    }
   ],
   "source": [
    "query = \"\"\"\n",
    "https://brcaexchange.org/backend/data/\n",
    "?format=json\n",
    "&filter=Pathogenicity_expert\n",
    "&filterValue=Pathogenic\n",
    "&filter=Gene_Symbol\n",
    "&filterValue=BRCA2\n",
    "&order_by=Gene_Symbol\n",
    "&direction=ascending\n",
    "&page_size=20\n",
    "&page_num=0\n",
    "&search_term=\n",
    "&include=Variant_in_ENIGMA\n",
    "&include=Variant_in_ClinVar\n",
    "&include=Variant_in_1000_Genomes\n",
    "&include=Variant_in_ExAC\n",
    "&include=Variant_in_LOVD\n",
    "&include=Variant_in_BIC\n",
    "&include=Variant_in_ESP\n",
    "&include=Variant_in_exLOVD\n",
    "&include=Variant_in_ENIGMA_BRCA12_Functional_Assays\n",
    "&include=Variant_in_GnomAD\n",
    "\"\"\"\n",
    "results = rq.get(query.replace('\\n', '')).json()\n",
    "\n",
    "print(\"Number of pathogenic BRCA2 variants: %d\" % results['count'])"
   ]
  },
  {
   "cell_type": "markdown",
   "metadata": {},
   "source": [
    "## Searching for a Variant\n",
    "\n",
    "Say that we know a particular value associated with our variant, e.g. its HGVS string or SCV accession number from ClinVar. We can use the `search_term` parameter to supply this value; variants which contain the value in any of a wide number of columns will be returned as search results. The `search_term` is filled when using the search boxes on the BRCA Exchange website.\n",
    "\n",
    "Here's an example of querying for a variant by its HGVS cDNA string (i.e., the change as located within a coding transcript):"
   ]
  },
  {
   "cell_type": "code",
   "execution_count": 108,
   "metadata": {},
   "outputs": [
    {
     "name": "stdout",
     "output_type": "stream",
     "text": [
      "Variants matching query: 1\n"
     ]
    }
   ],
   "source": [
    "# we're searching for the variant NM_007294.3:c.2389G>T, i.e. a change recorded in ClinVar molecular accession NM_007294.3 (the .3 is the version of the transcript)\n",
    "# c. indicates that it's a change in a coding sequence\n",
    "# it occurs at position 2389, and is a single-nucleotide substitution from G to T\n",
    "query = \"\"\"\n",
    "https://brcaexchange.org/backend/data/\n",
    "?format=json\n",
    "&search_term=NM_007294.3:c.2389G>T\n",
    "&include=Variant_in_ENIGMA\n",
    "&include=Variant_in_ClinVar\n",
    "&include=Variant_in_1000_Genomes\n",
    "&include=Variant_in_ExAC\n",
    "&include=Variant_in_LOVD\n",
    "&include=Variant_in_BIC\n",
    "&include=Variant_in_ESP\n",
    "&include=Variant_in_exLOVD\n",
    "&include=Variant_in_ENIGMA_BRCA12_Functional_Assays\n",
    "&include=Variant_in_GnomAD\n",
    "\"\"\"\n",
    "response = rq.get(query.replace('\\n', '')).json()\n",
    "print(\"Variants matching query: %d\" % response['count'])"
   ]
  },
  {
   "cell_type": "markdown",
   "metadata": {},
   "source": [
    "Nice, only one variant as expected. We can inspect the `data` field for our search results as before.\n",
    "\n",
    "Note that the supplied string might not match the canonical data for that variant; there are many nomenclatures for describing genetic variants, some defunct, but that are still used in other databases or in the literature. In these cases, the search will still return the variant, but will indicate that it matched on a synonym instead of the variant's canonical data. For example, here's a search for a synonym of the canonical variant `chr17:g.43067763:T>C`, expressed as the BIC designation `IVS16-68_A>G`:"
   ]
  },
  {
   "cell_type": "code",
   "execution_count": 120,
   "metadata": {},
   "outputs": [
    {
     "name": "stdout",
     "output_type": "stream",
     "text": [
      "Variants matching query: 1\n",
      "Synonym matches: 1\n"
     ]
    }
   ],
   "source": [
    "query = \"\"\"\n",
    "https://brcaexchange.org/backend/data/\n",
    "?format=json\n",
    "&search_term=IVS16-68_A>G\n",
    "&include=Variant_in_ENIGMA\n",
    "&include=Variant_in_ClinVar\n",
    "&include=Variant_in_1000_Genomes\n",
    "&include=Variant_in_ExAC\n",
    "&include=Variant_in_LOVD\n",
    "&include=Variant_in_BIC\n",
    "&include=Variant_in_ESP\n",
    "&include=Variant_in_exLOVD\n",
    "&include=Variant_in_ENIGMA_BRCA12_Functional_Assays\n",
    "&include=Variant_in_GnomAD\n",
    "\"\"\"\n",
    "response = rq.get(query.replace('\\n', '')).json()\n",
    "print(\"Variants matching query: %d\" % response['count'])\n",
    "print(\"Synonym matches: %d\" % response['synonyms'])"
   ]
  },
  {
   "cell_type": "markdown",
   "metadata": {},
   "source": [
    "Both `count` and `synonyms` contain 1, indicating there was a single result and that that result was a match on a synonym.\n",
    "\n",
    "On a related note, the `deletedCount` field is non-zero when a search returns results that only include variants that have been deleted from BRCA Exchange. In those cases, `count` *is* zero."
   ]
  },
  {
   "cell_type": "markdown",
   "metadata": {},
   "source": [
    "## Alternate Formats\n",
    "\n",
    "The `format` parameter can take other values than the `json` one we've been using before. Specifically, it can take `csv` or `tsv` to produce a comma-separated or tab-separated list of newline-delimited records, respectively. Note in this case that paging will not be used and the response will contain the full set of results. The first line is always a header that contains the names of the columns in the rows that follow it."
   ]
  },
  {
   "cell_type": "markdown",
   "metadata": {},
   "source": [
    "# Getting Variant Details\n",
    "While the variant search endpoint produces quite a lot of data per variant, we can request even more information about variants on a per-variant basis. In order to query these endpoints, you must have the BRCA Exchange database ID of the variant, i.e. the `id` field in the variant data object we saw before.\n",
    "\n",
    "There are a few variant-specific endpoints:\n",
    "- `/backend/data/variant/`: returns a data payload like the variant search, but with the full version history included\n",
    "- `/backend/data/variant/<id>/reports`: returns reports from sources which underlie the information on BRCA Exchange\n",
    "- `/backend/data/variantpapers/?variant_id=<id>`: returns literature references to this variant found by our literature crawler"
   ]
  },
  {
   "cell_type": "markdown",
   "metadata": {},
   "source": [
    "## Variant History\n",
    "\n",
    "Approximately each month, the BRCA Exchange's database is refreshed from external sources, producing a new \"release\" of the dataset. Each release is tagged with a numeric ID; the releases are listed at [BRCA Exchange Releases](https://brcaexchange.org/releases).\n",
    "\n",
    "During this refresh, each variant is compared against the new data; if there's been a change, then a new entry for the variant is generated in the version history. (The release ID is included in the variant version as the field `Data_Release_id` from the search endpoints we used earlier.) The full description of a variant thus consists of its entire history, from when it was first added to the database to the present (or, in the case of variants that have been deleted, to the revision in which it was deleted). **The history is always in reverse chronological order**, with element 0 being the most recent version, and the last element being the version in which the variant was first introduced.\n",
    "\n",
    "For example, here's the details for the first variant in the list of all variants that we queried earlier. (Note that the search features we covered earlier always return variants from the most recent release by default.)"
   ]
  },
  {
   "cell_type": "code",
   "execution_count": 93,
   "metadata": {},
   "outputs": [],
   "source": [
    "# for the following examples we'll consider the first variant we retrieved from the 'all variants' query we conducted before\n",
    "variant_id = 224971\n",
    "\n",
    "response = rq.get(\"\"\"https://brcaexchange.org/backend/data/variant/?variant_id=%d\"\"\" % variant_id).json()"
   ]
  },
  {
   "cell_type": "markdown",
   "metadata": {},
   "source": [
    "The response is almost the same as from the search endpoints we covered before, but instead of a single entry for `data` we instead have a list of entries, one per release in which this variant changed. This variant was introduced in release 1 and has been through 11 revisions, which we confirm below. Note that the releases are in order, but not sequential, indicating that this variant has changed in only a few releases."
   ]
  },
  {
   "cell_type": "code",
   "execution_count": 94,
   "metadata": {},
   "outputs": [
    {
     "name": "stdout",
     "output_type": "stream",
     "text": [
      "Number of revisions: 11\n",
      "[30, 25, 23, 22, 21, 18, 12, 11, 10, 2, 1]\n"
     ]
    }
   ],
   "source": [
    "print(\"Number of revisions: %d\" % len(response['data']))\n",
    "pprint([x['Data_Release']['id'] for x in response['data']])"
   ]
  },
  {
   "cell_type": "markdown",
   "metadata": {},
   "source": [
    "Let's take a closer look at the variant data, specifically the `Data_Release` field."
   ]
  },
  {
   "cell_type": "code",
   "execution_count": 95,
   "metadata": {},
   "outputs": [
    {
     "data": {
      "text/plain": [
       "{'name': 29,\n",
       " 'notes': 'Release notes for BRCA Exchange data version 29, dated April 12, 2019\\n\\n\\nThis is the most recent update of the BRCA Exchange variant data since the release in March, 2019. It includes variant data from 1000 Genomes, BIC, ClinVar, ESP, ExAC, ExUV, LOVD, ENIGMA, and Findlay et al (PMID: 30209399). The data was assembled with an automated Luigi pipeline, running software from https://github.com/BRCAChallenge/brca-exchange/tree/data_release_2019-04-12\\n\\n\\nChanges in this release:\\n* Due to some issues processing functional analysis data, this release contains the same LOVD data as the release from 14 February, 2019.\\n* Because BIC is no longer being updated, this release contains the same BIC data as the release from March 22, 2019. \\n',\n",
       " 'md5sum': '',\n",
       " 'id': 30,\n",
       " 'sources': 'Bic, ClinVar, ESP, ExAC, ENIGMA, LOVD, ExUV, 1000 Genomes, Findlay BRCA1 Ring Function Scores',\n",
       " 'date': '2019-04-12T00:00:00',\n",
       " 'archive': 'release-04-12-19.tar.gz',\n",
       " 'schema': ''}"
      ]
     },
     "execution_count": 95,
     "metadata": {},
     "output_type": "execute_result"
    }
   ],
   "source": [
    "response['data'][0]['Data_Release']"
   ]
  },
  {
   "cell_type": "markdown",
   "metadata": {},
   "source": [
    "Unlike the search results endpoints which include just the `Data_Release_id` per variant, we instead see much more information about the release, including its description, which sources were involved in its generation, and the date of its release."
   ]
  },
  {
   "cell_type": "markdown",
   "metadata": {},
   "source": [
    "### Differential History\n",
    "\n",
    "To make it easier to determine what's changed between revisions, each version of the variant includes a field called `Diff`; this field lists the data that has been added, removed, and changed with each version compared to the previous one. Let's take a look at the `Diff` field for the second version of our variant:"
   ]
  },
  {
   "cell_type": "code",
   "execution_count": 96,
   "metadata": {},
   "outputs": [
    {
     "data": {
      "text/plain": [
       "[{'field': 'Allele_Frequency',\n",
       "  'removed': '-',\n",
       "  'added': '0.357029 (1000 Genomes)',\n",
       "  'field_type': 'individual'},\n",
       " {'field': 'EAS_Allele_frequency_1000_Genomes',\n",
       "  'removed': '-',\n",
       "  'added': '0.372',\n",
       "  'field_type': 'individual'},\n",
       " {'field': 'AFR_Allele_frequency_1000_Genomes',\n",
       "  'removed': '-',\n",
       "  'added': '0.2345',\n",
       "  'field_type': 'individual'},\n",
       " {'field': 'EUR_Allele_frequency_1000_Genomes',\n",
       "  'removed': '-',\n",
       "  'added': '0.3539',\n",
       "  'field_type': 'individual'},\n",
       " {'field': 'Source',\n",
       "  'removed': None,\n",
       "  'added': ['1000_Genomes'],\n",
       "  'field_type': 'list'},\n",
       " {'field': 'SAS_Allele_frequency_1000_Genomes',\n",
       "  'removed': '-',\n",
       "  'added': '0.498',\n",
       "  'field_type': 'individual'},\n",
       " {'field': 'Max_Allele_Frequency',\n",
       "  'removed': '-',\n",
       "  'added': '0.498000 (SAS from 1000 Genomes)',\n",
       "  'field_type': 'individual'},\n",
       " {'field': 'Allele_frequency_1000_Genomes',\n",
       "  'removed': '-',\n",
       "  'added': '0.357029',\n",
       "  'field_type': 'individual'},\n",
       " {'field': 'AMR_Allele_frequency_1000_Genomes',\n",
       "  'removed': '-',\n",
       "  'added': '0.3746',\n",
       "  'field_type': 'individual'}]"
      ]
     },
     "execution_count": 96,
     "metadata": {},
     "output_type": "execute_result"
    }
   ],
   "source": [
    "response['data'][len(response['data'])-2]['Diff']"
   ]
  },
  {
   "cell_type": "markdown",
   "metadata": {},
   "source": [
    "It appears that this version is the one in which demographic data for this variant was first populated."
   ]
  },
  {
   "cell_type": "markdown",
   "metadata": {},
   "source": [
    "## Variant Reports\n",
    "\n",
    "Information about variants is aggregated from a number of sources; each evidence point that supports the information is also collected by BRCA Exchange, and is called a *report*. You can get the full list of reports for a variant like so (again, for our example variant):"
   ]
  },
  {
   "cell_type": "code",
   "execution_count": 97,
   "metadata": {},
   "outputs": [],
   "source": [
    "reports = rq.get(\"https://brcaexchange.org/backend/data/variant/%d/reports\" % variant_id).json()"
   ]
  },
  {
   "cell_type": "code",
   "execution_count": 98,
   "metadata": {},
   "outputs": [
    {
     "name": "stdout",
     "output_type": "stream",
     "text": [
      "Number of reports: 13\n",
      "[('ClinVar', 30),\n",
      " ('ClinVar', 25),\n",
      " ('ClinVar', 23),\n",
      " ('ClinVar', 22),\n",
      " ('ClinVar', 21),\n",
      " ('ClinVar', 18),\n",
      " ('ClinVar', 12),\n",
      " ('ClinVar', 11),\n",
      " ('ClinVar', 10),\n",
      " ('LOVD', 30),\n",
      " ('LOVD', 23),\n",
      " ('LOVD', 22),\n",
      " ('LOVD', 21)]\n"
     ]
    }
   ],
   "source": [
    "print(\"Number of reports: %d\" % len(reports['data']))\n",
    "pprint([(x['Source'], x['Data_Release']['id']) for x in reports['data']])"
   ]
  },
  {
   "cell_type": "markdown",
   "metadata": {},
   "source": [
    "Each report includes the full data about each variant at the time the report was collected, which maintains context about the report. In addition to the full data about the variant for that release, the report includes the source of the submission (the `Source` field)"
   ]
  },
  {
   "cell_type": "markdown",
   "metadata": {},
   "source": [
    "## Literature References\n",
    "\n",
    "In addition to reports, BRCA Exchange also harvests references of this variant in academic papers from a variety of sources (typically PubMed). Note that this feature is a work-in-progress and currently in beta, so take the current data with a grain of salt.\n",
    "\n",
    "You can view the references to our candidate variant using the following endpoint:"
   ]
  },
  {
   "cell_type": "code",
   "execution_count": 99,
   "metadata": {},
   "outputs": [
    {
     "data": {
      "text/plain": [
       "{'data': []}"
      ]
     },
     "execution_count": 99,
     "metadata": {},
     "output_type": "execute_result"
    }
   ],
   "source": [
    "refs = rq.get('https://brcaexchange.org/backend/data/variantpapers/?variant_id=%d' % variant_id).json()\n",
    "refs"
   ]
  },
  {
   "cell_type": "markdown",
   "metadata": {},
   "source": [
    "Well, that's a little disappointing...it seems we didn't find any references in the literature for this variant. Let's try another:"
   ]
  },
  {
   "cell_type": "code",
   "execution_count": 101,
   "metadata": {
    "collapsed": true,
    "jupyter": {
     "outputs_hidden": true
    }
   },
   "outputs": [
    {
     "data": {
      "text/plain": [
       "[{'crawl_date': '2019-08-26T23:33:38',\n",
       "  'title': 'High proportion of recurrent germline mutations in the BRCA1 gene in breast and ovarian cancer patients from the Prague area.',\n",
       "  'url': '',\n",
       "  'journal': 'Breast cancer research : BCR',\n",
       "  'authors': 'Pohlreich, Petr; Zikan, Michal; Stribrna, Jana; Kleibl, Zdenek; Janatova, Marketa; Kotlas, Jaroslav; Zidovska, Jana; Novotny, Jan; Petruzelka, Lubos; Szabo, Csilla; Matous, Bohuslav',\n",
       "  'id': 265,\n",
       "  'deleted': False,\n",
       "  'points': 10,\n",
       "  'year': 2005,\n",
       "  'keywords': 'Breast Neoplasms/Czech Republic/DNA Mutational Analysis/DNA, Neoplasm/Ethnic Groups/Exons/Family/Female/Gene Amplification/Genes, BRCA1/Genes, BRCA2/Humans/Ovarian Neoplasms/Polymerase Chain Reaction/RNA, Neoplasm/Risk Factors',\n",
       "  'mentions': ['61Gly  Sequencing  1  29  -   F-43  11  c.1135delA  c.1016delA  p.Lys339fsX340  PTT  2  41  Colon (50), lung (64)   F-361  11  c.1246delA  c.1127delA <<< p.Asn376fs>>>X393  PTT  1  37  Ovarian (52, 54, 55)   F-21  11  c.1806C>T  c.1687C>T  p.Gln563X  PTT  1 (1)  46  Ovarian (43), melanoma (53)   F-397  11  c.1866A>T',\n",
       "   '  45  -  c.181T>G  p.Cys61Gly  Sequencing  1  29  -  c.1016delA  p.Lys339fsX340  PTT  2  41  Colon (50), lung (64)  F-361  11  c.1246delA  c.1127delA <<< p.Asn376fs>>>X393  PTT  1  37  Ovarian (52, 54, 55)  F-21  11  c.1806C>T  c.1687C>T  p.Gln563X  PTT  1 (1)  46  Ovarian (43), melanoma (53)  F-397  11  c.1866A>Ta '],\n",
       "  'pmid': 16168118,\n",
       "  'abstract': 'Germline mutations in the BRCA1 and BRCA2 genes have been shown to account for the majority of hereditary breast and ovarian cancers. The purpose of our study was to estimate the incidence and spectrum of pathogenic mutations in BRCA1/2 genes in high-risk Czech families.                 A total of 96 Czech families with recurrent breast and/or ovarian cancer and 55 patients considered to be at high-risk but with no reported family history of cancer were screened for mutations in the BRCA1/2 genes. The entire coding sequence of each gene was analyzed using a combination of the protein truncation test and direct DNA sequencing.                 A total of 35 mutations in the BRCA1/2 genes were identified in high-risk families (36.5%). Pathogenic mutations were found in 23.3% of breast cancer families and in 59.4% of families with the occurrence of both breast and ovarian cancer. In addition, four mutations were detected in 31 (12.9%) women with early onset breast cancer. One mutation was detected in seven (14.3%) patients affected with both a primary breast and ovarian cancer and another in three (33.3%) patients with a bilateral breast cancer. A total of 3 mutations in BRCA1 were identified among 14 (21.4%) women with a medullary breast carcinoma. Of 151 analyzed individuals, 35 (23.2%) carried a BRCA1 mutation and 9 (6.0%) a BRCA2 mutation. One novel truncating mutation was found in BRCA1 (c.1747A>T) and two in BRCA2 (c.3939delC and c.5763dupT). The 35 identified BRCA1 mutations comprised 13 different alterations. Three recurrent mutations accounted for 71.4% of unrelated individuals with detected gene alterations. The BRCA1 c.5266dupC (5382insC) was detected in 51.4% of mutation positive women. The mutations c.3700_3704del5 and c.181T>G (300T>G) contributed to 11.4% and 8.6% of pathogenic mutations, respectively. A total of eight different mutations were identified in BRCA2. The novel c.5763dupT mutation, which appeared in two unrelated families, was the only recurrent alteration of the BRCA2 gene identified in this study.                 Mutational analysis of BRCA1/2 genes in 151 high-risk patients characterized the spectrum of gene alterations and demonstrated the dominant role of the BRCA1 c.5266dupC allele in hereditary breast and ovarian cancer.'},\n",
       " {'crawl_date': '2019-08-26T23:33:38',\n",
       "  'title': 'NGS-based BRCA1/2 mutation testing of high-grade serous ovarian cancer tissue: results and conclusions of the first international round robin trial.',\n",
       "  'url': '',\n",
       "  'journal': 'Virchows Archiv : an international journal of pathology',\n",
       "  'authors': 'Endris, Volker; Stenzinger, Albrecht; Pfarr, Nicole; Penzel, Roland; Möbs, Markus; Lenze, Dido; Darb-Esfahani, Silvia; Hummel, Michael; Sabine-Merkelbach-Bruse, ; Jung, Andreas; Lehmann, Ulrich; Kreipe, Hans; Kirchner, Thomas; Büttner, Reinhard; Jochum, Wolfram; Höfler, Gerald; Dietel, Manfred; Weichert, Wilko; Schirmacher, Peter',\n",
       "  'id': 1400,\n",
       "  'deleted': False,\n",
       "  'points': 10,\n",
       "  'year': 2016,\n",
       "  'keywords': 'Adult/BRCA1 Protein/BRCA2 Protein/Breast Neoplasms/Female/Genetic Testing/Genotype/Humans/Mutation/Ovarian Neoplasms',\n",
       "  'mentions': ['-01-7     NM_007294:c.5266_5267insC     BRCA1:p.Gln1756fs     Ins      BRCA-01-8     NM_007294:c.1179_1183delAGGTT + c.1127delA     BRCA1:p.Leu393fs +<<< p.Asn376fs>>>     Del      BRCA-01-9     Wild type    \\xa0       BRCA-01-10     NM_007294:c.4035delA     BRCA1:p.Glu1346fs     Del      Detailed overview of the somat',\n",
       "   '  SNV Del  BRCA-01-5  NM_000059:c.2397_2398insG  BRCA2:p.Asn801*  Ins  BRCA-01-6  Wild type  BRCA-01-7 BRCA-01-8  BRCA1:p.Gln1756fs BRCA1:p.Leu393fs +<<< p.Asn376fs>>>  Ins Del  BRCA-01-9  NM_007294:c.5266_5267insC NM_007294:c.1179_1183delAGGTT + c.1127delA Wild type  BRCA-01-10  NM_007294:c.4035delA  BRCA1:p.Glu134'],\n",
       "  'pmid': 27003155,\n",
       "  'abstract': 'With the approval of olaparib as monotherapy treatment in platinum-sensitive, relapsed high-grade serous ovarian cancer by the European Medical Agency (EMA), comprehensive genotyping of BRCA1 and BRCA2 in tumor tissue has become a mandatory pre-therapeutic test. This requires significant advances in routine tumor test methodologies due to the large size of both genes and the lack of mutational hot spots. Classical focused screening approaches, like Sanger sequencing, do not allow for a sensitive, rapid, and economic analysis of tumor tissue. Next-generation sequencing (NGS) approaches employing targeted panels for BRCA1/2 to interrogate formalin-fixed and paraffin-embedded tumor samples from either surgical resection or biopsy specimens can overcome these limitations. Although focused NGS methods have been implemented by few centers in routine molecular diagnostics for the analysis of some druggable oncogenic mutations, the reliable diagnostic testing of the entire coding regions of BRCA1 and BRCA2 was a new challenge requiring extensive technological improvement and quality management. Here, we describe the implementation and results of the first round robin trial for BRCA1/2 mutation testing in tumor tissue that was conducted in central Europe on May 2015, shortly after the approval and prior to the official release of olaparib. The high success rate of 81\\xa0% (21/26 test centers) demonstrates that BRCA1/2 multicenter mutation testing is well feasible in FFPE tumor tissue, extending to other tumor entities beyond ovarian cancer. The high number of test centers passing the trial demonstrates the success of the concerted efforts by German, Swiss, and Austrian pathology centers to ensure quality-controlled NGS-based testing and proves the potential of this technology in routine molecular pathology. On the basis of our results, we provide recommendations for predictive testing of tumor tissue for BRCA1/2 to clinical decision making in ovarian cancer patients.'}]"
      ]
     },
     "execution_count": 101,
     "metadata": {},
     "output_type": "execute_result"
    }
   ],
   "source": [
    "refs = rq.get('https://brcaexchange.org/backend/data/variantpapers/?variant_id=%d' % 223762).json()\n",
    "refs['data']"
   ]
  },
  {
   "cell_type": "markdown",
   "metadata": {},
   "source": [
    "It's a bit beyond the scope of this document to describe these results in full, but the fields are fairly self-explanatory.\n",
    "\n",
    "Note that these results are independent of the version of the variant; instead, the field `crawl_date` provides the date at which the citation was collected. Compare that date to the one in the `Data_Release` object for an idea of what the evidence for that variant looked like at the time the citation was collected. More importantly, refer to the year in which the paper was published for a better idea of the context in which this citation should be regarded."
   ]
  }
 ],
 "metadata": {
  "kernelspec": {
   "display_name": "Python 3",
   "language": "python",
   "name": "python3"
  },
  "language_info": {
   "codemirror_mode": {
    "name": "ipython",
    "version": 3
   },
   "file_extension": ".py",
   "mimetype": "text/x-python",
   "name": "python",
   "nbconvert_exporter": "python",
   "pygments_lexer": "ipython3",
   "version": "3.7.4"
  },
  "toc-autonumbering": true,
  "toc-showcode": false,
  "toc-showmarkdowntxt": false
 },
 "nbformat": 4,
 "nbformat_minor": 4
}
